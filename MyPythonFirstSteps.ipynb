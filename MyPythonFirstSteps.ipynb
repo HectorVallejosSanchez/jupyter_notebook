{
 "cells": [
  {
   "cell_type": "markdown",
   "metadata": {},
   "source": [
    "# Learning\n",
    "\n",
    "This notebooks contains some simple examples of using *Jupyter Notebook* and *Python3*"
   ]
  },
  {
   "cell_type": "markdown",
   "metadata": {},
   "source": [
    "## Example 1: *Hello, World*"
   ]
  },
  {
   "cell_type": "code",
   "execution_count": 1,
   "metadata": {
    "collapsed": false
   },
   "outputs": [
    {
     "name": "stdout",
     "output_type": "stream",
     "text": [
      "Hello, Héctor\n",
      "\n"
     ]
    }
   ],
   "source": [
    "my_name = \"Héctor\"\n",
    "hello_statement= \"Hello, \"+ my_name\n",
    "print(hello_statement, end=\"\\n\\n\")"
   ]
  },
  {
   "cell_type": "code",
   "execution_count": 2,
   "metadata": {
    "collapsed": false
   },
   "outputs": [
    {
     "name": "stdout",
     "output_type": "stream",
     "text": [
      "Hello, Héctor Vallejos Sánchez\n",
      "\n"
     ]
    }
   ],
   "source": [
    "name_all = \"Héctor Vallejos Sánchez\"\n",
    "hello_statement = \"Hello, \"+name_all\n",
    "print(hello_statement, end=\"\\n\\n\")"
   ]
  },
  {
   "cell_type": "markdown",
   "metadata": {},
   "source": [
    "Example 2: World's *best* loop is here"
   ]
  },
  {
   "cell_type": "code",
   "execution_count": 3,
   "metadata": {
    "collapsed": false
   },
   "outputs": [
    {
     "name": "stdout",
     "output_type": "stream",
     "text": [
      "j=1 x=11\n",
      "j=2 x=13\n",
      "j=3 x=16\n",
      "j=4 x=20\n"
     ]
    }
   ],
   "source": [
    "x = 10\n",
    "for j in range(1,5):\n",
    "    x=x+j\n",
    "    print(\"j={0} x={1}\".format(j,x))"
   ]
  },
  {
   "cell_type": "code",
   "execution_count": 5,
   "metadata": {
    "collapsed": false
   },
   "outputs": [
    {
     "name": "stdout",
     "output_type": "stream",
     "text": [
      "j=1 a=11\n",
      "j=2 a=13\n",
      "j=3 a=16\n",
      "j=4 a=20\n",
      "j=5 a=25\n",
      "j=6 a=31\n",
      "j=7 a=38\n",
      "j=8 a=46\n",
      "j=9 a=55\n"
     ]
    }
   ],
   "source": [
    "a = 10\n",
    "for j in range(1,10):\n",
    "    a=a+j\n",
    "    print(\"j={0} a={1}\".format(j,a))"
   ]
  },
  {
   "cell_type": "code",
   "execution_count": 6,
   "metadata": {
    "collapsed": false
   },
   "outputs": [
    {
     "name": "stdout",
     "output_type": "stream",
     "text": [
      "j=1 y=11\n",
      "j=2 y=13\n",
      "j=3 y=16\n",
      "j=4 y=20\n",
      "j=5 y=25\n",
      "j=6 y=31\n",
      "j=7 y=38\n",
      "j=8 y=46\n",
      "j=9 y=55\n",
      "j=10 y=65\n",
      "j=11 y=76\n"
     ]
    }
   ],
   "source": [
    "y = 10\n",
    "for j in range(1,12):\n",
    "    y = y +j\n",
    "    print(\"j={1} y={0}\".format(y,j))"
   ]
  },
  {
   "cell_type": "code",
   "execution_count": 7,
   "metadata": {
    "collapsed": false
   },
   "outputs": [
    {
     "name": "stdout",
     "output_type": "stream",
     "text": [
      "j=10 a=11\n",
      "j=10 a=12\n",
      "j=10 a=13\n",
      "j=10 a=14\n"
     ]
    }
   ],
   "source": [
    "a = 10 \n",
    "for j in range(1, 5):\n",
    "    j=j+a\n",
    "    print(\"j={1} a={0}\".format(j,a))"
   ]
  },
  {
   "cell_type": "code",
   "execution_count": null,
   "metadata": {
    "collapsed": true
   },
   "outputs": [],
   "source": []
  }
 ],
 "metadata": {
  "kernelspec": {
   "display_name": "Python 3",
   "language": "python",
   "name": "python3"
  },
  "language_info": {
   "codemirror_mode": {
    "name": "ipython",
    "version": 3
   },
   "file_extension": ".py",
   "mimetype": "text/x-python",
   "name": "python",
   "nbconvert_exporter": "python",
   "pygments_lexer": "ipython3",
   "version": "3.6.0"
  }
 },
 "nbformat": 4,
 "nbformat_minor": 2
}
